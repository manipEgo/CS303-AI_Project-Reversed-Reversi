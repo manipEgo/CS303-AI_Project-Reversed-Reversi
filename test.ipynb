{
 "cells": [
  {
   "cell_type": "code",
   "execution_count": 11,
   "metadata": {},
   "outputs": [
    {
     "name": "stdout",
     "output_type": "stream",
     "text": [
      "(8, 8)\n",
      "[[ 0  0  0  0  0  0  0  0]\n",
      " [ 0  0  0  0  0  0  0  0]\n",
      " [ 0  0  0  0  0  0  0  0]\n",
      " [ 0  0  0  1 -1  0  0  0]\n",
      " [ 0  0  0 -1  1  0  0  0]\n",
      " [ 0  0  0  0  0  0  0  0]\n",
      " [ 0  0  0  0  0  0  0  0]\n",
      " [ 0  0  0  0  0  0  0  0]]\n",
      "[[ 0  0  0  0  0  0  0  0]\n",
      " [ 0  0  0  0  0  0  0  0]\n",
      " [ 0  0  0  0  0  0  0  0]\n",
      " [ 0  0  0  1 -1  5  5  0]\n",
      " [ 0  0  5 -1  1  0  5  5]\n",
      " [ 0  0  0  5  5  0  5  5]\n",
      " [ 0  0  0  0  5  5  5  0]\n",
      " [ 0  0  0  0  0  0  0  0]]\n"
     ]
    }
   ],
   "source": [
    "from chess import AI\n",
    "import numpy as np\n",
    "\n",
    "ai = AI(8, 1, 5000)\n",
    "chessboard = np.zeros((8, 8), dtype=int)\n",
    "print(chessboard.shape)\n",
    "chessboard[3][3] = chessboard[4][4] = 1\n",
    "chessboard[3][4] = chessboard[4][3] = -1\n",
    "print(chessboard)\n",
    "ai.go(chessboard)\n",
    "for item in ai.candidate_list:\n",
    "    chessboard[item[0]][item[1]] = 5\n",
    "print(chessboard)\n"
   ]
  }
 ],
 "metadata": {
  "kernelspec": {
   "display_name": "Python 3.9.12 ('base')",
   "language": "python",
   "name": "python3"
  },
  "language_info": {
   "codemirror_mode": {
    "name": "ipython",
    "version": 3
   },
   "file_extension": ".py",
   "mimetype": "text/x-python",
   "name": "python",
   "nbconvert_exporter": "python",
   "pygments_lexer": "ipython3",
   "version": "3.9.12"
  },
  "orig_nbformat": 4,
  "vscode": {
   "interpreter": {
    "hash": "17c22e34abe24b887fea2cacf80605289d2dfd89ecbd8add61db50cea789d8af"
   }
  }
 },
 "nbformat": 4,
 "nbformat_minor": 2
}
