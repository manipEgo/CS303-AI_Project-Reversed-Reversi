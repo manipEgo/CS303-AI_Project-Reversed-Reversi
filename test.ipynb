{
 "cells": [
  {
   "cell_type": "code",
   "execution_count": 1,
   "metadata": {},
   "outputs": [
    {
     "name": "stdout",
     "output_type": "stream",
     "text": [
      "(8, 8)\n",
      "[[ 0  0  0  0  0  0  0  0]\n",
      " [ 0  0  0  0  0  0  0  0]\n",
      " [ 0  0  0  0  0  0  0  0]\n",
      " [ 0  0  0  1 -1  0  0  0]\n",
      " [ 0  0  0 -1  1  0  0  0]\n",
      " [ 0  0  0  0  0  0  0  0]\n",
      " [ 0  0  0  0  0  0  0  0]\n",
      " [ 0  0  0  0  0  0  0  0]]\n",
      "[[ 0  0  0  0  0  0  0  0]\n",
      " [ 0  0  0  0  0  0  0  0]\n",
      " [ 0  0  5  5  5  0  0  0]\n",
      " [ 0  0  5  1 -1  5  0  0]\n",
      " [ 0  0  5 -1  1  5  0  0]\n",
      " [ 0  0  0  5  5  5  0  0]\n",
      " [ 0  0  0  0  0  0  0  0]\n",
      " [ 0  0  0  0  0  0  0  0]]\n"
     ]
    }
   ],
   "source": [
    "from chess import AI\n",
    "import numpy as np\n",
    "\n",
    "ai = AI(8, 1, 5000)\n",
    "chessboard = np.zeros((8, 8), dtype=int)\n",
    "print(chessboard.shape)\n",
    "chessboard[3][3] = chessboard[4][4] = 1\n",
    "chessboard[3][4] = chessboard[4][3] = -1\n",
    "print(chessboard)\n",
    "ai.go(chessboard)\n",
    "for item in ai.candidate_list:\n",
    "    chessboard[item[0]][item[1]] = 5\n",
    "print(chessboard)\n"
   ]
  },
  {
   "cell_type": "code",
   "execution_count": 5,
   "metadata": {},
   "outputs": [
    {
     "name": "stdout",
     "output_type": "stream",
     "text": [
      "[[1, 2, 4, 8, 16, 32, 64, 128], [256, 512, 1024, 2048, 4096, 8192, 16384, 32768], [65536, 131072, 262144, 524288, 1048576, 2097152, 4194304, 8388608], [16777216, 33554432, 67108864, 134217728, 268435456, 536870912, 1073741824, 2147483648], [4294967296, 8589934592, 17179869184, 34359738368, 68719476736, 137438953472, 274877906944, 549755813888], [1099511627776, 2199023255552, 4398046511104, 8796093022208, 17592186044416, 35184372088832, 70368744177664, 140737488355328], [281474976710656, 562949953421312, 1125899906842624, 2251799813685248, 4503599627370496, 9007199254740992, 18014398509481984, 36028797018963968], [72057594037927936, 144115188075855872, 288230376151711744, 576460752303423488, 1152921504606846976, 2305843009213693952, 4611686018427387904, 9223372036854775808]]\n",
      "\n"
     ]
    },
    {
     "ename": "TypeError",
     "evalue": "'int' object is not iterable",
     "output_type": "error",
     "traceback": [
      "\u001b[1;31m---------------------------------------------------------------------------\u001b[0m",
      "\u001b[1;31mTypeError\u001b[0m                                 Traceback (most recent call last)",
      "\u001b[1;32mc:\\Users\\manip_ego\\OneDrive - 南方科技大学\\academy\\2022Fall\\Artificial Intelligence\\projects\\proj01\\test.ipynb Cell 2\u001b[0m in \u001b[0;36m<cell line: 16>\u001b[1;34m()\u001b[0m\n\u001b[0;32m     <a href='vscode-notebook-cell:/c%3A/Users/manip_ego/OneDrive%20-%20%E5%8D%97%E6%96%B9%E7%A7%91%E6%8A%80%E5%A4%A7%E5%AD%A6/academy/2022Fall/Artificial%20Intelligence/projects/proj01/test.ipynb#W1sZmlsZQ%3D%3D?line=12'>13</a>\u001b[0m \u001b[39mprint\u001b[39m(pos_board)\n\u001b[0;32m     <a href='vscode-notebook-cell:/c%3A/Users/manip_ego/OneDrive%20-%20%E5%8D%97%E6%96%B9%E7%A7%91%E6%8A%80%E5%A4%A7%E5%AD%A6/academy/2022Fall/Artificial%20Intelligence/projects/proj01/test.ipynb#W1sZmlsZQ%3D%3D?line=14'>15</a>\u001b[0m \u001b[39mprint\u001b[39m()\n\u001b[1;32m---> <a href='vscode-notebook-cell:/c%3A/Users/manip_ego/OneDrive%20-%20%E5%8D%97%E6%96%B9%E7%A7%91%E6%8A%80%E5%A4%A7%E5%AD%A6/academy/2022Fall/Artificial%20Intelligence/projects/proj01/test.ipynb#W1sZmlsZQ%3D%3D?line=15'>16</a>\u001b[0m \u001b[39mfor\u001b[39;00m row \u001b[39min\u001b[39;00m \u001b[39mlen\u001b[39m(pos_board):\n\u001b[0;32m     <a href='vscode-notebook-cell:/c%3A/Users/manip_ego/OneDrive%20-%20%E5%8D%97%E6%96%B9%E7%A7%91%E6%8A%80%E5%A4%A7%E5%AD%A6/academy/2022Fall/Artificial%20Intelligence/projects/proj01/test.ipynb#W1sZmlsZQ%3D%3D?line=16'>17</a>\u001b[0m     \u001b[39mfor\u001b[39;00m col \u001b[39min\u001b[39;00m \u001b[39mlen\u001b[39m(pos_board[\u001b[39m0\u001b[39m]):\n\u001b[0;32m     <a href='vscode-notebook-cell:/c%3A/Users/manip_ego/OneDrive%20-%20%E5%8D%97%E6%96%B9%E7%A7%91%E6%8A%80%E5%A4%A7%E5%AD%A6/academy/2022Fall/Artificial%20Intelligence/projects/proj01/test.ipynb#W1sZmlsZQ%3D%3D?line=17'>18</a>\u001b[0m         \u001b[39mprint\u001b[39m(\u001b[39mstr\u001b[39m(pos_board[row][col]) \u001b[39m+\u001b[39m \u001b[39m\"\u001b[39m\u001b[39m: (\u001b[39m\u001b[39m\"\u001b[39m \u001b[39m+\u001b[39m \u001b[39mstr\u001b[39m(row) \u001b[39m+\u001b[39m \u001b[39m\"\u001b[39m\u001b[39m, \u001b[39m\u001b[39m\"\u001b[39m \u001b[39m+\u001b[39m \u001b[39mstr\u001b[39m(col) \u001b[39m+\u001b[39m \u001b[39m\"\u001b[39m\u001b[39m)\u001b[39m\u001b[39m\"\u001b[39m)\n",
      "\u001b[1;31mTypeError\u001b[0m: 'int' object is not iterable"
     ]
    }
   ],
   "source": [
    "pos_board = []\n",
    "row = []\n",
    "row_bin = []\n",
    "for power in range(64):\n",
    "    row.append(1<<power)\n",
    "    row_bin.append(bin(1<<power))\n",
    "    if power % 8 == 7:\n",
    "        #print(row)\n",
    "        #print(row_bin)\n",
    "        pos_board.append(row.copy())\n",
    "        row.clear()\n",
    "        row_bin.clear()\n",
    "print(pos_board)\n",
    "\n",
    "print()\n",
    "for row in range(len(pos_board)):\n",
    "    for col in range(len(pos_board[0])):\n",
    "        print(str(pos_board[row][col]) + \": (\" + str(row) + \", \" + str(col) + \")\")"
   ]
  },
  {
   "cell_type": "code",
   "execution_count": 4,
   "metadata": {},
   "outputs": [
    {
     "name": "stdout",
     "output_type": "stream",
     "text": [
      "1000000100000000000000000000000000000000000000000000000010000001b0\n",
      "010000101000000100000000000000000000000000000000100000010100001b0\n",
      "00100100000000001000000100000000000000001000000100000000001001b0\n",
      "0001100000000000000000001000000110000001000000000000000000011b0\n",
      "0000000001000010000000000000000000000000000000000100001b0\n",
      "000000000010010001000010000000000000000001000010001001b0\n",
      "00000000000110000000000001000010010000100000000000011b0\n",
      "0000000000000000001001000000000000000000001001b0\n",
      "000000000000000000011000001001000010010000011b0\n",
      "0000000000000000000000000001100000011b0\n",
      "test 0b1111111111111111111111111111111111111111111111111111111111111111\n",
      "[9295429630892703873, 4792111478498951490, 2594215222373842980, 1729382813125312536, 18577348462920192, 10205666933351424, 6755684016199680, 39582420959232, 26543503441920, 103481868288]\n"
     ]
    }
   ],
   "source": [
    "pos_values = []\n",
    "test_ = 0\n",
    "\n",
    "for row in range(7):\n",
    "    for col in range(7):\n",
    "        temp = pos_board[row][col]\n",
    "        temp |= pos_board[col][row]\n",
    "        temp |= pos_board[7 - row][col]\n",
    "        temp |= pos_board[col][7 - row]\n",
    "        temp |= pos_board[row][7 - col]\n",
    "        temp |= pos_board[7 - col][row]\n",
    "        temp |= pos_board[7 - row][7 - col]\n",
    "        temp |= pos_board[7 - col][7 - row]\n",
    "        if temp not in pos_values:\n",
    "            pos_values.append(temp)\n",
    "            print(bin(temp)[::-1])\n",
    "            test_ ^= temp\n",
    "print(\"test\", bin(test_))\n",
    "print(pos_values)"
   ]
  },
  {
   "cell_type": "code",
   "execution_count": 2,
   "metadata": {},
   "outputs": [
    {
     "name": "stdout",
     "output_type": "stream",
     "text": [
      "340282366920938463463374607431768211456\n",
      "<class 'int'>\n"
     ]
    }
   ],
   "source": [
    "print(1<<128)\n",
    "print(type(1<<128))"
   ]
  }
 ],
 "metadata": {
  "kernelspec": {
   "display_name": "Python 3.9.12 ('base')",
   "language": "python",
   "name": "python3"
  },
  "language_info": {
   "codemirror_mode": {
    "name": "ipython",
    "version": 3
   },
   "file_extension": ".py",
   "mimetype": "text/x-python",
   "name": "python",
   "nbconvert_exporter": "python",
   "pygments_lexer": "ipython3",
   "version": "3.9.12"
  },
  "orig_nbformat": 4,
  "vscode": {
   "interpreter": {
    "hash": "17c22e34abe24b887fea2cacf80605289d2dfd89ecbd8add61db50cea789d8af"
   }
  }
 },
 "nbformat": 4,
 "nbformat_minor": 2
}
