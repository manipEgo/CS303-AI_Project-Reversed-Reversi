{
 "cells": [
  {
   "cell_type": "code",
   "execution_count": null,
   "metadata": {},
   "outputs": [],
   "source": [
    "from chess import AI\n",
    "import numpy as np\n",
    "\n",
    "ai_black = AI(8, -1, 500)\n",
    "ai_white = AI(8, 1, 500)\n",
    "chessboard = np.zeros((8, 8), dtype=int)\n",
    "turn = 1\n",
    "black_dead = False\n",
    "white_dead = False\n",
    "step = []\n",
    "\n",
    "indices = [(3, 3), (4, 4)]\n",
    "for index in indices:\n",
    "    chessboard[index]= 1\n",
    "indices = [(4, 3), (3, 4)]\n",
    "for index in indices:\n",
    "    chessboard[index]= -1\n",
    "print(chessboard)\n",
    "step.append(chessboard.copy())\n",
    "\n",
    "while(not(black_dead and white_dead)):\n",
    "    print(\"step\", len(step))\n",
    "    if turn == 1:\n",
    "        ai_white.go(chessboard)\n",
    "        if len(ai_white.candidate_list) > 0:\n",
    "            move = ai_white.candidate_list.pop()\n",
    "            chessboard[move[0]][move[1]] = 1\n",
    "            white_dead = False\n",
    "        else:\n",
    "            white_dead = True\n",
    "    else:\n",
    "        ai_black.go(chessboard)\n",
    "        if len(ai_black.candidate_list) > 0:\n",
    "            move = ai_black.candidate_list.pop()\n",
    "            chessboard[move[0]][move[1]] = -1\n",
    "            black_dead = False\n",
    "        else:\n",
    "            black_dead = True\n",
    "    print(chessboard)\n",
    "    step.append(chessboard.copy())\n",
    "    turn = -turn"
   ]
  },
  {
   "cell_type": "code",
   "execution_count": null,
   "metadata": {},
   "outputs": [],
   "source": [
    "pos_board = []\n",
    "row = []\n",
    "row_bin = []\n",
    "for power in range(64):\n",
    "    row.append(1<<power)\n",
    "    row_bin.append(bin(1<<power))\n",
    "    if power % 8 == 7:\n",
    "        #print(row)\n",
    "        #print(row_bin)\n",
    "        pos_board.append(row.copy())\n",
    "        row.clear()\n",
    "        row_bin.clear()\n",
    "print(pos_board)\n",
    "\n",
    "print()\n",
    "for row in range(len(pos_board)):\n",
    "    for col in range(len(pos_board[0])):\n",
    "        print(str(pos_board[row][col]) + \": (\" + str(row) + \", \" + str(col) + \")\", end=\", \")"
   ]
  },
  {
   "cell_type": "code",
   "execution_count": null,
   "metadata": {},
   "outputs": [],
   "source": [
    "pos_values = []\n",
    "test_ = 0\n",
    "\n",
    "for row in range(7):\n",
    "    for col in range(7):\n",
    "        temp = pos_board[row][col]\n",
    "        temp |= pos_board[col][row]\n",
    "        temp |= pos_board[7 - row][col]\n",
    "        temp |= pos_board[col][7 - row]\n",
    "        temp |= pos_board[row][7 - col]\n",
    "        temp |= pos_board[7 - col][row]\n",
    "        temp |= pos_board[7 - row][7 - col]\n",
    "        temp |= pos_board[7 - col][7 - row]\n",
    "        if temp not in pos_values:\n",
    "            pos_values.append(temp)\n",
    "            print(bin(temp)[::-1])\n",
    "            test_ ^= temp\n",
    "print(\"test\", bin(test_))\n",
    "print(pos_values)"
   ]
  },
  {
   "cell_type": "code",
   "execution_count": null,
   "metadata": {},
   "outputs": [],
   "source": [
    "num = 514\n",
    "print(bin(num))\n",
    "count = 0\n",
    "while(num > 0):\n",
    "    count += 1\n",
    "    num &= num - 1\n",
    "print(count)"
   ]
  }
 ],
 "metadata": {
  "kernelspec": {
   "display_name": "Python 3.9.12 ('base')",
   "language": "python",
   "name": "python3"
  },
  "language_info": {
   "codemirror_mode": {
    "name": "ipython",
    "version": 3
   },
   "file_extension": ".py",
   "mimetype": "text/x-python",
   "name": "python",
   "nbconvert_exporter": "python",
   "pygments_lexer": "ipython3",
   "version": "3.9.12"
  },
  "orig_nbformat": 4,
  "vscode": {
   "interpreter": {
    "hash": "17c22e34abe24b887fea2cacf80605289d2dfd89ecbd8add61db50cea789d8af"
   }
  }
 },
 "nbformat": 4,
 "nbformat_minor": 2
}
